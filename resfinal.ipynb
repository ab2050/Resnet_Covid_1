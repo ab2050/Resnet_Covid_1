{
 "cells": [
  {
   "cell_type": "code",
   "execution_count": 1,
   "id": "5f21dc41",
   "metadata": {},
   "outputs": [],
   "source": [
    "import tensorflow as tf\n",
    "from tensorflow.keras.preprocessing.image import ImageDataGenerator\n",
    "from tensorflow.keras.models import Sequential\n",
    "from tensorflow.keras.layers import Conv2D, MaxPooling2D\n",
    "from tensorflow.keras.layers import Activation, Dropout, Flatten, Dense, BatchNormalization\n",
    "import os\n",
    "import pandas as pd\n",
    "import numpy as np\n",
    "import cv2"
   ]
  },
  {
   "cell_type": "code",
   "execution_count": 2,
   "id": "325cd285",
   "metadata": {},
   "outputs": [],
   "source": [
    "base_dir = r'E:\\AB\\UEM\\year 3\\Project\\Sem5\\cov_deep_learning\\Data_dl'\n",
    "img_h,img_w= (164,164)\n",
    "batch_size=256\n",
    "epochs=3\n",
    "from tensorflow.keras.preprocessing.image import ImageDataGenerator\n",
    "datagen= ImageDataGenerator(rescale=1./255,validation_split=0.2)"
   ]
  },
  {
   "cell_type": "code",
   "execution_count": 3,
   "id": "fb9ddfd7",
   "metadata": {},
   "outputs": [
    {
     "name": "stdout",
     "output_type": "stream",
     "text": [
      "Model: \"sequential\"\n",
      "_________________________________________________________________\n",
      " Layer (type)                Output Shape              Param #   \n",
      "=================================================================\n",
      " resnet50 (Functional)       (None, 2048)              23587712  \n",
      "                                                                 \n",
      " flatten (Flatten)           (None, 2048)              0         \n",
      "                                                                 \n",
      " dropout (Dropout)           (None, 2048)              0         \n",
      "                                                                 \n",
      " dense (Dense)               (None, 2)                 4098      \n",
      "                                                                 \n",
      "=================================================================\n",
      "Total params: 23,591,810\n",
      "Trainable params: 1,059,842\n",
      "Non-trainable params: 22,531,968\n",
      "_________________________________________________________________\n"
     ]
    }
   ],
   "source": [
    "from tensorflow.keras.applications.resnet import ResNet50\n",
    "from tensorflow.keras.applications.vgg19 import VGG19, preprocess_input\n",
    "#from tensorflow.keras.applications.mobilenet_v2 import MobileNetV2 \n",
    "from tensorflow.keras.layers import Flatten,Dense,Dropout,BatchNormalization\n",
    "from tensorflow.keras.models import Model,Sequential\n",
    "from tensorflow.keras.utils import to_categorical\n",
    "from tensorflow.keras.layers import Conv2D, MaxPooling2D, BatchNormalization\n",
    "from tensorflow.keras.layers import PReLU\n",
    "from tensorflow.keras.optimizers import RMSprop\n",
    "\n",
    "from tensorflow.keras.callbacks import ReduceLROnPlateau\n",
    "\n",
    "base_model= ResNet50(include_top=False, weights='imagenet',\n",
    "                                       input_tensor=None, input_shape=(img_h,img_w,3), pooling='avg')\n",
    " \n",
    "for layer in base_model.layers[:-7]:\n",
    "    layer.trainable=False\n",
    "\n",
    " \n",
    "model=Sequential()\n",
    "model.add(base_model)\n",
    "model.add(Flatten())\n",
    "model.add(Dropout(0.4))\n",
    "\n",
    "\n",
    "model.add(Dense(2,activation='softmax'))\n",
    "model.summary()"
   ]
  },
  {
   "cell_type": "code",
   "execution_count": 4,
   "id": "74d5cd38",
   "metadata": {},
   "outputs": [
    {
     "name": "stdout",
     "output_type": "stream",
     "text": [
      "<keras.engine.input_layer.InputLayer object at 0x0000021CB2579C70> --> False\n",
      "<keras.layers.convolutional.ZeroPadding2D object at 0x0000021CB25D2430> --> False\n",
      "<keras.layers.convolutional.Conv2D object at 0x0000021CB25D27C0> --> False\n",
      "<keras.layers.normalization.batch_normalization.BatchNormalization object at 0x0000021CB26475E0> --> False\n",
      "<keras.layers.core.activation.Activation object at 0x0000021CB26472B0> --> False\n",
      "<keras.layers.convolutional.ZeroPadding2D object at 0x0000021CB2682BE0> --> False\n",
      "<keras.layers.pooling.MaxPooling2D object at 0x0000021CB26D5B20> --> False\n",
      "<keras.layers.convolutional.Conv2D object at 0x0000021CB26F5C40> --> False\n",
      "<keras.layers.normalization.batch_normalization.BatchNormalization object at 0x0000021CB26F2FA0> --> False\n",
      "<keras.layers.core.activation.Activation object at 0x0000021CB26F5430> --> False\n",
      "<keras.layers.convolutional.Conv2D object at 0x0000021CB26FFA60> --> False\n",
      "<keras.layers.normalization.batch_normalization.BatchNormalization object at 0x0000021CB2647F10> --> False\n",
      "<keras.layers.core.activation.Activation object at 0x0000021CB2709100> --> False\n",
      "<keras.layers.convolutional.Conv2D object at 0x0000021CB26E77F0> --> False\n",
      "<keras.layers.convolutional.Conv2D object at 0x0000021CB2709FD0> --> False\n",
      "<keras.layers.normalization.batch_normalization.BatchNormalization object at 0x0000021CB26F2760> --> False\n",
      "<keras.layers.normalization.batch_normalization.BatchNormalization object at 0x0000021CB270F6D0> --> False\n",
      "<keras.layers.merge.Add object at 0x0000021CB27161F0> --> False\n",
      "<keras.layers.core.activation.Activation object at 0x0000021CB27097F0> --> False\n",
      "<keras.layers.convolutional.Conv2D object at 0x0000021CB270F520> --> False\n",
      "<keras.layers.normalization.batch_normalization.BatchNormalization object at 0x0000021CB2722760> --> False\n",
      "<keras.layers.core.activation.Activation object at 0x0000021CB2727430> --> False\n",
      "<keras.layers.convolutional.Conv2D object at 0x0000021CB27279A0> --> False\n",
      "<keras.layers.normalization.batch_normalization.BatchNormalization object at 0x0000021CB272B7F0> --> False\n",
      "<keras.layers.core.activation.Activation object at 0x0000021CB2716CD0> --> False\n",
      "<keras.layers.convolutional.Conv2D object at 0x0000021CB2734D90> --> False\n",
      "<keras.layers.normalization.batch_normalization.BatchNormalization object at 0x0000021CB2739CD0> --> False\n",
      "<keras.layers.merge.Add object at 0x0000021CB2734D30> --> False\n",
      "<keras.layers.core.activation.Activation object at 0x0000021CB2891190> --> False\n",
      "<keras.layers.convolutional.Conv2D object at 0x0000021CB27397F0> --> False\n",
      "<keras.layers.normalization.batch_normalization.BatchNormalization object at 0x0000021CB289ECD0> --> False\n",
      "<keras.layers.core.activation.Activation object at 0x0000021CB28A39A0> --> False\n",
      "<keras.layers.convolutional.Conv2D object at 0x0000021CB289EF40> --> False\n",
      "<keras.layers.normalization.batch_normalization.BatchNormalization object at 0x0000021CB2739D60> --> False\n",
      "<keras.layers.core.activation.Activation object at 0x0000021CB28AEA30> --> False\n",
      "<keras.layers.convolutional.Conv2D object at 0x0000021CB28A96D0> --> False\n",
      "<keras.layers.normalization.batch_normalization.BatchNormalization object at 0x0000021CB28B7F40> --> False\n",
      "<keras.layers.merge.Add object at 0x0000021CB28C30D0> --> False\n",
      "<keras.layers.core.activation.Activation object at 0x0000021CB28C3970> --> False\n",
      "<keras.layers.convolutional.Conv2D object at 0x0000021CB28CF400> --> False\n",
      "<keras.layers.normalization.batch_normalization.BatchNormalization object at 0x0000021CB28C3AF0> --> False\n",
      "<keras.layers.core.activation.Activation object at 0x0000021CB28CF9A0> --> False\n",
      "<keras.layers.convolutional.Conv2D object at 0x0000021CB28E1BB0> --> False\n",
      "<keras.layers.normalization.batch_normalization.BatchNormalization object at 0x0000021CB28E6040> --> False\n",
      "<keras.layers.core.activation.Activation object at 0x0000021CB28EC160> --> False\n",
      "<keras.layers.convolutional.Conv2D object at 0x0000021CB28BC4C0> --> False\n",
      "<keras.layers.convolutional.Conv2D object at 0x0000021CB28ECCA0> --> False\n",
      "<keras.layers.normalization.batch_normalization.BatchNormalization object at 0x0000021CB28C9F40> --> False\n",
      "<keras.layers.normalization.batch_normalization.BatchNormalization object at 0x0000021CB28E18E0> --> False\n",
      "<keras.layers.merge.Add object at 0x0000021CB28AEF70> --> False\n",
      "<keras.layers.core.activation.Activation object at 0x0000021CB28A9580> --> False\n",
      "<keras.layers.convolutional.Conv2D object at 0x0000021CB28A3070> --> False\n",
      "<keras.layers.normalization.batch_normalization.BatchNormalization object at 0x0000021CB2739130> --> False\n",
      "<keras.layers.core.activation.Activation object at 0x0000021CB289E0D0> --> False\n",
      "<keras.layers.convolutional.Conv2D object at 0x0000021CB271D070> --> False\n",
      "<keras.layers.normalization.batch_normalization.BatchNormalization object at 0x0000021CB27055E0> --> False\n",
      "<keras.layers.core.activation.Activation object at 0x0000021CB2716760> --> False\n",
      "<keras.layers.convolutional.Conv2D object at 0x0000021CB28F3DF0> --> False\n",
      "<keras.layers.normalization.batch_normalization.BatchNormalization object at 0x0000021CB2739340> --> False\n",
      "<keras.layers.merge.Add object at 0x0000021CB2739550> --> False\n",
      "<keras.layers.core.activation.Activation object at 0x0000021CB28F5280> --> False\n",
      "<keras.layers.convolutional.Conv2D object at 0x0000021CB2705130> --> False\n",
      "<keras.layers.normalization.batch_normalization.BatchNormalization object at 0x0000021CB28FDDF0> --> False\n",
      "<keras.layers.core.activation.Activation object at 0x0000021CB2900D30> --> False\n",
      "<keras.layers.convolutional.Conv2D object at 0x0000021CB28FD760> --> False\n",
      "<keras.layers.normalization.batch_normalization.BatchNormalization object at 0x0000021CB28CAE50> --> False\n",
      "<keras.layers.core.activation.Activation object at 0x0000021CB29002B0> --> False\n",
      "<keras.layers.convolutional.Conv2D object at 0x0000021CB2904880> --> False\n",
      "<keras.layers.normalization.batch_normalization.BatchNormalization object at 0x0000021CB29150D0> --> False\n",
      "<keras.layers.merge.Add object at 0x0000021CB2909D30> --> False\n",
      "<keras.layers.core.activation.Activation object at 0x0000021CB291B910> --> False\n",
      "<keras.layers.convolutional.Conv2D object at 0x0000021CB2915640> --> False\n",
      "<keras.layers.normalization.batch_normalization.BatchNormalization object at 0x0000021CB292A0D0> --> False\n",
      "<keras.layers.core.activation.Activation object at 0x0000021CB292AAF0> --> False\n",
      "<keras.layers.convolutional.Conv2D object at 0x0000021CB2923820> --> False\n",
      "<keras.layers.normalization.batch_normalization.BatchNormalization object at 0x0000021CB2936160> --> False\n",
      "<keras.layers.core.activation.Activation object at 0x0000021CB2915670> --> False\n",
      "<keras.layers.convolutional.Conv2D object at 0x0000021CB293A340> --> False\n",
      "<keras.layers.normalization.batch_normalization.BatchNormalization object at 0x0000021CB2941940> --> False\n",
      "<keras.layers.merge.Add object at 0x0000021CB2946610> --> False\n",
      "<keras.layers.core.activation.Activation object at 0x0000021CB292FB80> --> False\n",
      "<keras.layers.convolutional.Conv2D object at 0x0000021CB295A610> --> False\n",
      "<keras.layers.normalization.batch_normalization.BatchNormalization object at 0x0000021CB294DDC0> --> False\n",
      "<keras.layers.core.activation.Activation object at 0x0000021CB2968580> --> False\n",
      "<keras.layers.convolutional.Conv2D object at 0x0000021CB29689A0> --> False\n",
      "<keras.layers.normalization.batch_normalization.BatchNormalization object at 0x0000021CB294D220> --> False\n",
      "<keras.layers.core.activation.Activation object at 0x0000021CB2915040> --> False\n",
      "<keras.layers.convolutional.Conv2D object at 0x0000021CB2941460> --> False\n",
      "<keras.layers.convolutional.Conv2D object at 0x0000021CB292FBB0> --> False\n",
      "<keras.layers.normalization.batch_normalization.BatchNormalization object at 0x0000021CB2955940> --> False\n",
      "<keras.layers.normalization.batch_normalization.BatchNormalization object at 0x0000021CB290FFD0> --> False\n",
      "<keras.layers.merge.Add object at 0x0000021CB26477F0> --> False\n",
      "<keras.layers.core.activation.Activation object at 0x0000021CB28CA250> --> False\n",
      "<keras.layers.convolutional.Conv2D object at 0x0000021CB2709250> --> False\n",
      "<keras.layers.normalization.batch_normalization.BatchNormalization object at 0x0000021CB28E1460> --> False\n",
      "<keras.layers.core.activation.Activation object at 0x0000021CB28D7400> --> False\n",
      "<keras.layers.convolutional.Conv2D object at 0x0000021CB28A98B0> --> False\n",
      "<keras.layers.normalization.batch_normalization.BatchNormalization object at 0x0000021CB28ECE20> --> False\n",
      "<keras.layers.core.activation.Activation object at 0x0000021CB296FE80> --> False\n",
      "<keras.layers.convolutional.Conv2D object at 0x0000021CB2904190> --> False\n",
      "<keras.layers.normalization.batch_normalization.BatchNormalization object at 0x0000021CB2975190> --> False\n",
      "<keras.layers.merge.Add object at 0x0000021CB2960D30> --> False\n",
      "<keras.layers.core.activation.Activation object at 0x0000021CB29789D0> --> False\n",
      "<keras.layers.convolutional.Conv2D object at 0x0000021CB2975700> --> False\n",
      "<keras.layers.normalization.batch_normalization.BatchNormalization object at 0x0000021CB2981190> --> False\n",
      "<keras.layers.core.activation.Activation object at 0x0000021CB2981BB0> --> False\n",
      "<keras.layers.convolutional.Conv2D object at 0x0000021CB2975730> --> False\n",
      "<keras.layers.normalization.batch_normalization.BatchNormalization object at 0x0000021CB298D280> --> False\n",
      "<keras.layers.core.activation.Activation object at 0x0000021CB2975D30> --> False\n",
      "<keras.layers.convolutional.Conv2D object at 0x0000021CB2992AF0> --> False\n",
      "<keras.layers.normalization.batch_normalization.BatchNormalization object at 0x0000021CB2998A60> --> False\n",
      "<keras.layers.merge.Add object at 0x0000021CB29A0730> --> False\n",
      "<keras.layers.core.activation.Activation object at 0x0000021CB29A02E0> --> False\n",
      "<keras.layers.convolutional.Conv2D object at 0x0000021CB2998AF0> --> False\n",
      "<keras.layers.normalization.batch_normalization.BatchNormalization object at 0x0000021CB29AEA60> --> False\n",
      "<keras.layers.core.activation.Activation object at 0x0000021CB298D8E0> --> False\n",
      "<keras.layers.convolutional.Conv2D object at 0x0000021CB29B1FA0> --> False\n",
      "<keras.layers.normalization.batch_normalization.BatchNormalization object at 0x0000021CB29B8AF0> --> False\n",
      "<keras.layers.core.activation.Activation object at 0x0000021CB2986C10> --> False\n",
      "<keras.layers.convolutional.Conv2D object at 0x0000021CB29BD0D0> --> False\n",
      "<keras.layers.normalization.batch_normalization.BatchNormalization object at 0x0000021CB29C5FA0> --> False\n",
      "<keras.layers.merge.Add object at 0x0000021CB29BD970> --> False\n",
      "<keras.layers.core.activation.Activation object at 0x0000021CB29D1E50> --> False\n",
      "<keras.layers.convolutional.Conv2D object at 0x0000021CB29CCE50> --> False\n",
      "<keras.layers.normalization.batch_normalization.BatchNormalization object at 0x0000021CB29D8FA0> --> False\n",
      "<keras.layers.core.activation.Activation object at 0x0000021CB29DDCA0> --> False\n",
      "<keras.layers.convolutional.Conv2D object at 0x0000021CB29DD790> --> False\n",
      "<keras.layers.normalization.batch_normalization.BatchNormalization object at 0x0000021CB29BDAC0> --> False\n",
      "<keras.layers.core.activation.Activation object at 0x0000021CB29DD0A0> --> False\n",
      "<keras.layers.convolutional.Conv2D object at 0x0000021CB29A0A60> --> False\n",
      "<keras.layers.normalization.batch_normalization.BatchNormalization object at 0x0000021CB2986970> --> False\n",
      "<keras.layers.merge.Add object at 0x0000021CB29982E0> --> False\n",
      "<keras.layers.core.activation.Activation object at 0x0000021CB291DBE0> --> False\n",
      "<keras.layers.convolutional.Conv2D object at 0x0000021CB295AB50> --> False\n",
      "<keras.layers.normalization.batch_normalization.BatchNormalization object at 0x0000021CB290F8E0> --> False\n",
      "<keras.layers.core.activation.Activation object at 0x0000021CB28F92B0> --> False\n",
      "<keras.layers.convolutional.Conv2D object at 0x0000021CB29926D0> --> False\n",
      "<keras.layers.normalization.batch_normalization.BatchNormalization object at 0x0000021CB29E95B0> --> False\n",
      "<keras.layers.core.activation.Activation object at 0x0000021CB29E37C0> --> False\n",
      "<keras.layers.convolutional.Conv2D object at 0x0000021CB29EAB50> --> False\n",
      "<keras.layers.normalization.batch_normalization.BatchNormalization object at 0x0000021CB29EDAC0> --> False\n",
      "<keras.layers.merge.Add object at 0x0000021CB2986EB0> --> False\n",
      "<keras.layers.core.activation.Activation object at 0x0000021CB29E9A30> --> False\n",
      "<keras.layers.convolutional.Conv2D object at 0x0000021CB29FDFA0> --> False\n",
      "<keras.layers.normalization.batch_normalization.BatchNormalization object at 0x0000021CB29E8190> --> False\n",
      "<keras.layers.core.activation.Activation object at 0x0000021CB29FD790> --> False\n",
      "<keras.layers.convolutional.Conv2D object at 0x0000021CB2A0AFA0> --> False\n",
      "<keras.layers.normalization.batch_normalization.BatchNormalization object at 0x0000021CB2A0FBE0> --> False\n",
      "<keras.layers.core.activation.Activation object at 0x0000021CB2A1D040> --> False\n",
      "<keras.layers.convolutional.Conv2D object at 0x0000021CB29ED820> --> False\n",
      "<keras.layers.convolutional.Conv2D object at 0x0000021CB2A1D4C0> --> False\n",
      "<keras.layers.normalization.batch_normalization.BatchNormalization object at 0x0000021CB29F9AC0> --> False\n",
      "<keras.layers.normalization.batch_normalization.BatchNormalization object at 0x0000021CB2A0AB20> --> False\n",
      "<keras.layers.merge.Add object at 0x0000021CB2A2A160> --> False\n",
      "<keras.layers.core.activation.Activation object at 0x0000021CB2A17A30> --> False\n",
      "<keras.layers.convolutional.Conv2D object at 0x0000021CB2A21220> --> False\n",
      "<keras.layers.normalization.batch_normalization.BatchNormalization object at 0x0000021CB2A30DC0> --> False\n",
      "<keras.layers.core.activation.Activation object at 0x0000021CB2A366A0> --> False\n",
      "<keras.layers.convolutional.Conv2D object at 0x0000021CB2A30100> --> False\n",
      "<keras.layers.normalization.batch_normalization.BatchNormalization object at 0x0000021CB2A3DE50> --> False\n",
      "<keras.layers.core.activation.Activation object at 0x0000021CB2A369D0> --> False\n",
      "<keras.layers.convolutional.Conv2D object at 0x0000021CB2A3DB50> --> False\n",
      "<keras.layers.normalization.batch_normalization.BatchNormalization object at 0x0000021CB2A4E370> --> False\n",
      "<keras.layers.merge.Add object at 0x0000021CB8A64340> --> False\n",
      "<keras.layers.core.activation.Activation object at 0x0000021CB8A64D60> --> False\n",
      "<keras.layers.convolutional.Conv2D object at 0x0000021CB2A4EEB0> --> False\n",
      "<keras.layers.normalization.batch_normalization.BatchNormalization object at 0x0000021CB2A2A490> --> False\n",
      "<keras.layers.core.activation.Activation object at 0x0000021CB2A1DD90> --> False\n",
      "<keras.layers.convolutional.Conv2D object at 0x0000021CB2A0A4F0> --> False\n",
      "<keras.layers.normalization.batch_normalization.BatchNormalization object at 0x0000021CB29F2BB0> --> True\n",
      "<keras.layers.core.activation.Activation object at 0x0000021CB2A0F400> --> True\n",
      "<keras.layers.convolutional.Conv2D object at 0x0000021CB29E8760> --> True\n",
      "<keras.layers.normalization.batch_normalization.BatchNormalization object at 0x0000021CB29C50D0> --> True\n",
      "<keras.layers.merge.Add object at 0x0000021CB29E8370> --> True\n",
      "<keras.layers.core.activation.Activation object at 0x0000021CB2A060A0> --> True\n",
      "<keras.layers.pooling.GlobalAveragePooling2D object at 0x0000021CB2A3D8B0> --> True\n"
     ]
    }
   ],
   "source": [
    "for layer in base_model.layers:\n",
    "    print(layer,\"-->\",layer.trainable)"
   ]
  },
  {
   "cell_type": "code",
   "execution_count": 5,
   "id": "82fa56a8",
   "metadata": {},
   "outputs": [
    {
     "name": "stderr",
     "output_type": "stream",
     "text": [
      "F:\\Anaconda\\lib\\site-packages\\keras\\optimizer_v2\\rmsprop.py:130: UserWarning: The `lr` argument is deprecated, use `learning_rate` instead.\n",
      "  super(RMSprop, self).__init__(name, **kwargs)\n"
     ]
    }
   ],
   "source": [
    "from tensorflow.keras.optimizers import Adam,SGD,Adagrad,Adadelta,RMSprop\n",
    "from tensorflow.keras.callbacks import ReduceLROnPlateau\n",
    "\n",
    "\n",
    "reduce_learning_rate = ReduceLROnPlateau(monitor='loss',\n",
    "                                         factor=0.1,\n",
    "                                         patience=3,\n",
    "                                         cooldown=2,\n",
    "                                         min_lr=1e-10,\n",
    "                                         verbose=1)\n",
    "\n",
    "checkpoint =tf.keras.callbacks.ModelCheckpoint(filepath=\"resfinal.h5\", \n",
    "                            monitor='val_accuracy',\n",
    "                            verbose=1,\n",
    "                            save_best_only=True, \n",
    "                            save_weights_only=False, \n",
    "                            mode='auto',\n",
    "                            save_freq='epoch')\n",
    "\n",
    "\n",
    "import time\n",
    "class TimeHistory(tf.keras.callbacks.Callback):\n",
    "    def on_train_begin(self, logs={}):\n",
    "        self.times = []\n",
    "\n",
    "    def on_epoch_begin(self, batch, logs={}):\n",
    "        self.epoch_time_start = time.time()\n",
    "\n",
    "    def on_epoch_end(self, batch, logs={}):\n",
    "        self.times.append(time.time() - self.epoch_time_start)\n",
    "\n",
    "time_callback = TimeHistory()\n",
    "\n",
    "callbacks = [reduce_learning_rate, checkpoint, time_callback]\n",
    "optimizer = RMSprop(lr=0.001, rho=0.9, epsilon=1e-08, decay=0.0)\n",
    "model.compile( loss='categorical_crossentropy',optimizer= optimizer, metrics=['accuracy'])"
   ]
  },
  {
   "cell_type": "code",
   "execution_count": 6,
   "id": "5cadf7c6",
   "metadata": {},
   "outputs": [
    {
     "name": "stdout",
     "output_type": "stream",
     "text": [
      "Found 1986 images belonging to 2 classes.\n",
      "Found 495 images belonging to 2 classes.\n"
     ]
    }
   ],
   "source": [
    "train_generator = datagen.flow_from_directory(\n",
    "        base_dir,  # This is the source directory for training images\n",
    "        target_size=(img_h,img_w),  \n",
    "        batch_size=batch_size,\n",
    "        class_mode='categorical',\n",
    "        subset='training',\n",
    "        #color_mode=\"rgb\",\n",
    "        shuffle=True)\n",
    "\n",
    "\n",
    "validation_generator = datagen.flow_from_directory(\n",
    "         base_dir,     \n",
    "        target_size=(img_h, img_w),\n",
    "        batch_size=batch_size,\n",
    "        class_mode='categorical',\n",
    "        #color_mode=\"rgb\",\n",
    "        subset='validation',\n",
    "        shuffle=False)"
   ]
  },
  {
   "cell_type": "code",
   "execution_count": 20,
   "id": "7849828e",
   "metadata": {},
   "outputs": [
    {
     "name": "stdout",
     "output_type": "stream",
     "text": [
      "7/7 [==============================] - ETA: 0s - loss: 0.6154 - accuracy: 0.6682 - precision_1: 0.6682 - recall_1: 0.6682 WARNING:tensorflow:6 out of the last 8 calls to <function Model.make_test_function.<locals>.test_function at 0x0000021CC0A07550> triggered tf.function retracing. Tracing is expensive and the excessive number of tracings could be due to (1) creating @tf.function repeatedly in a loop, (2) passing tensors with different shapes, (3) passing Python objects instead of tensors. For (1), please define your @tf.function outside of the loop. For (2), @tf.function has experimental_relax_shapes=True option that relaxes argument shapes that can avoid unnecessary retracing. For (3), please refer to https://www.tensorflow.org/guide/function#controlling_retracing and https://www.tensorflow.org/api_docs/python/tf/function for  more details.\n",
      "\n",
      "Epoch 00001: val_accuracy did not improve from 0.97656\n",
      "7/7 [==============================] - 139s 20s/step - loss: 0.6154 - accuracy: 0.6682 - precision_1: 0.6682 - recall_1: 0.6682 - val_loss: 0.2936 - val_accuracy: 0.9766 - val_precision_1: 0.9766 - val_recall_1: 0.9766 - lr: 0.0100\n"
     ]
    }
   ],
   "source": [
    "model.compile(optimizer='sgd',\n",
    "          loss='binary_crossentropy',\n",
    "          metrics=['accuracy',keras.metrics.Precision(), keras.metrics.Recall()])\n",
    "history = model.fit(\n",
    "      train_generator,\n",
    "      steps_per_epoch=train_generator.samples//batch_size, \n",
    "      epochs=1,\n",
    "      validation_data=validation_generator,\n",
    "      validation_steps=validation_generator.samples//batch_size,  \n",
    "      callbacks=callbacks,\n",
    "      verbose=1)"
   ]
  },
  {
   "cell_type": "code",
   "execution_count": 27,
   "id": "1dce7858",
   "metadata": {},
   "outputs": [
    {
     "name": "stdout",
     "output_type": "stream",
     "text": [
      "2/2 [==============================] - 33s 14s/step - loss: 0.9147 - accuracy: 0.5313\n"
     ]
    },
    {
     "data": {
      "text/plain": [
       "[0.914727509021759, 0.5313131213188171]"
      ]
     },
     "execution_count": 27,
     "metadata": {},
     "output_type": "execute_result"
    }
   ],
   "source": [
    "model.evaluate(validation_generator,verbose=1)"
   ]
  },
  {
   "cell_type": "code",
   "execution_count": 19,
   "id": "d6b773a8",
   "metadata": {},
   "outputs": [
    {
     "name": "stdout",
     "output_type": "stream",
     "text": [
      "dict_keys(['loss', 'accuracy', 'val_loss', 'val_accuracy', 'lr'])\n"
     ]
    }
   ],
   "source": [
    "history_dict = history.history\n",
    "print(history_dict.keys())"
   ]
  },
  {
   "cell_type": "code",
   "execution_count": 82,
   "id": "96fc1a37",
   "metadata": {},
   "outputs": [
    {
     "name": "stdout",
     "output_type": "stream",
     "text": [
      "[[0.16584957 0.83415043]]\n"
     ]
    }
   ],
   "source": [
    "img = cv2.imread(\"E:\\\\AB\\\\UEM\\\\year 3\\\\Project\\\\Sem5\\\\cov_deep_learning\\\\Data_dl\\\\non-COVID\\\\Non-Covid (28).png\") \n",
    "image_resized= cv2.resize(img, (img_h,img_w))\n",
    "cv2.imshow('CT scan', img)\n",
    "cv2.waitKey(0)\n",
    "img=np.expand_dims(image_resized,axis=0)\n",
    "np.set_printoptions(suppress=True)\n",
    "pred=model.predict(img)\n",
    "print(pred)"
   ]
  },
  {
   "cell_type": "code",
   "execution_count": 72,
   "id": "0f80be7b",
   "metadata": {},
   "outputs": [
    {
     "name": "stdout",
     "output_type": "stream",
     "text": [
      "COVID positive\n"
     ]
    }
   ],
   "source": [
    "yn=np.argmax(pred,axis=1)\n",
    "classes = []\n",
    "for subdir in sorted(os.listdir(base_dir)):\n",
    "    if os.path.isdir(os.path.join(base_dir, subdir)):\n",
    "        classes.append(subdir)\n",
    "if yn==0:\n",
    "    print(\"COVID positive\")\n",
    "else :\n",
    "    print(\"Not Covid\")"
   ]
  },
  {
   "cell_type": "code",
   "execution_count": 15,
   "id": "11ee463c",
   "metadata": {},
   "outputs": [
    {
     "data": {
      "text/plain": [
       "array([0], dtype=int64)"
      ]
     },
     "execution_count": 15,
     "metadata": {},
     "output_type": "execute_result"
    }
   ],
   "source": [
    "yn=np.argmax(pred,axis=1)\n",
    "classes = []\n",
    "for subdir in sorted(os.listdir(base_dir)):\n",
    "    if os.path.isdir(os.path.join(base_dir, subdir)):\n",
    "        classes.append(subdir)\n",
    "yn"
   ]
  },
  {
   "cell_type": "code",
   "execution_count": 48,
   "id": "6420417b",
   "metadata": {},
   "outputs": [
    {
     "data": {
      "text/plain": [
       "array([0], dtype=int64)"
      ]
     },
     "execution_count": 48,
     "metadata": {},
     "output_type": "execute_result"
    }
   ],
   "source": [
    "import keras\n",
    "from keras.utils.np_utils import to_categorical\n",
    "y_proba = model.predict(img)\n",
    "y_classes = y_proba.argmax(axis=-1)\n",
    "y_classes"
   ]
  },
  {
   "cell_type": "code",
   "execution_count": 47,
   "id": "60b03a94",
   "metadata": {},
   "outputs": [
    {
     "name": "stdout",
     "output_type": "stream",
     "text": [
      "Total time taken is  6.0  minutes and  15.173778057098389  seconds\n"
     ]
    }
   ],
   "source": [
    "timings= time_callback.times\n",
    "n=sum(timings)\n",
    "print(\"Total time taken is \",sum(timings)//60,\" minutes and \",sum(timings)%60,\" seconds\")"
   ]
  },
  {
   "cell_type": "code",
   "execution_count": 48,
   "id": "4a7824f0",
   "metadata": {},
   "outputs": [
    {
     "name": "stdout",
     "output_type": "stream",
     "text": [
      "2/2 [==============================] - 22s 12s/step\n",
      "0.5313131313131313\n"
     ]
    }
   ],
   "source": [
    "model2= tf.keras.models.load_model(\"resfinal.h5\")\n",
    "y_pred= model2.predict(validation_generator,verbose=1)\n",
    "y_true= validation_generator.classes\n",
    "y_pred2= np.argmax(y_pred,axis=1)\n",
    "\n",
    "from sklearn.metrics import accuracy_score\n",
    "print(accuracy_score(y_true,y_pred2))\n",
    "from sklearn.metrics import confusion_matrix\n",
    "\n",
    "cf=confusion_matrix(y_true, y_pred2)\n",
    "\n",
    "df_cm = pd.DataFrame(cf, range(2), range(2))\n",
    "df_cm.to_csv('ResNet50 prj'+'.csv',index=False)"
   ]
  },
  {
   "cell_type": "code",
   "execution_count": null,
   "id": "249c9074",
   "metadata": {},
   "outputs": [],
   "source": []
  },
  {
   "cell_type": "code",
   "execution_count": null,
   "id": "6c0445e1",
   "metadata": {},
   "outputs": [],
   "source": []
  },
  {
   "cell_type": "code",
   "execution_count": null,
   "id": "d27d355d",
   "metadata": {},
   "outputs": [],
   "source": []
  }
 ],
 "metadata": {
  "kernelspec": {
   "display_name": "Python 3 (ipykernel)",
   "language": "python",
   "name": "python3"
  },
  "language_info": {
   "codemirror_mode": {
    "name": "ipython",
    "version": 3
   },
   "file_extension": ".py",
   "mimetype": "text/x-python",
   "name": "python",
   "nbconvert_exporter": "python",
   "pygments_lexer": "ipython3",
   "version": "3.9.7"
  }
 },
 "nbformat": 4,
 "nbformat_minor": 5
}
