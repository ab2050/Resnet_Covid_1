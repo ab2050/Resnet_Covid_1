{
 "cells": [
  {
   "cell_type": "code",
   "execution_count": 1,
   "id": "5f21dc41",
   "metadata": {},
   "outputs": [],
   "source": [
    "import tensorflow as tf\n",
    "from tensorflow.keras.preprocessing.image import ImageDataGenerator\n",
    "from tensorflow.keras.models import Sequential\n",
    "from tensorflow.keras.layers import Conv2D, MaxPooling2D\n",
    "from tensorflow.keras.layers import Activation, Dropout, Flatten, Dense, BatchNormalization\n",
    "import os\n",
    "import pandas as pd\n",
    "import numpy as np\n",
    "import cv2"
   ]
  },
  {
   "cell_type": "code",
   "execution_count": 2,
   "id": "325cd285",
   "metadata": {},
   "outputs": [],
   "source": [
    "base_dir = r'E:\\AB\\cov_deep_learning\\Data_dl'\n",
    "img_h,img_w= (164,164)\n",
    "batch_size=256\n",
    "#epochs=30\n",
    "from tensorflow.keras.preprocessing.image import ImageDataGenerator\n",
    "datagen= ImageDataGenerator(rescale=1./255,validation_split=0.2)"
   ]
  },
  {
   "cell_type": "code",
   "execution_count": 4,
   "id": "fb9ddfd7",
   "metadata": {},
   "outputs": [
    {
     "name": "stdout",
     "output_type": "stream",
     "text": [
      "Model: \"sequential\"\n",
      "_________________________________________________________________\n",
      " Layer (type)                Output Shape              Param #   \n",
      "=================================================================\n",
      " resnet50 (Functional)       (None, 2048)              23587712  \n",
      "                                                                 \n",
      " flatten (Flatten)           (None, 2048)              0         \n",
      "                                                                 \n",
      " dropout (Dropout)           (None, 2048)              0         \n",
      "                                                                 \n",
      " dense (Dense)               (None, 2)                 4098      \n",
      "                                                                 \n",
      "=================================================================\n",
      "Total params: 23,591,810\n",
      "Trainable params: 1,059,842\n",
      "Non-trainable params: 22,531,968\n",
      "_________________________________________________________________\n"
     ]
    }
   ],
   "source": [
    "from tensorflow.keras.applications.resnet import ResNet50\n",
    "from tensorflow.keras.applications.vgg19 import VGG19, preprocess_input\n",
    "#from tensorflow.keras.applications.mobilenet_v2 import MobileNetV2 \n",
    "from tensorflow.keras.layers import Flatten,Dense,Dropout,BatchNormalization\n",
    "from tensorflow.keras.models import Model,Sequential\n",
    "from tensorflow.keras.utils import to_categorical\n",
    "from tensorflow.keras.layers import Conv2D, MaxPooling2D, BatchNormalization\n",
    "from tensorflow.keras.layers import PReLU\n",
    "from tensorflow.keras.optimizers import RMSprop\n",
    "\n",
    "from tensorflow.keras.callbacks import ReduceLROnPlateau\n",
    "\n",
    "base_model= ResNet50(include_top=False, weights='imagenet',\n",
    "                                       input_tensor=None, input_shape=(img_h,img_w,3), pooling='avg')\n",
    " \n",
    "for layer in base_model.layers[:-7]:\n",
    "    layer.trainable=False\n",
    "\n",
    " \n",
    "model=Sequential()\n",
    "model.add(base_model)\n",
    "model.add(Flatten())\n",
    "model.add(Dropout(0.4))\n",
    "\n",
    "\n",
    "model.add(Dense(2,activation='softmax'))\n",
    "model.summary()"
   ]
  },
  {
   "cell_type": "code",
   "execution_count": 5,
   "id": "74d5cd38",
   "metadata": {},
   "outputs": [
    {
     "name": "stdout",
     "output_type": "stream",
     "text": [
      "<keras.engine.input_layer.InputLayer object at 0x000001C3DB4580D0> --> False\n",
      "<keras.layers.convolutional.ZeroPadding2D object at 0x000001C3DB496FD0> --> False\n",
      "<keras.layers.convolutional.Conv2D object at 0x000001C3DB4C23A0> --> False\n",
      "<keras.layers.normalization.batch_normalization.BatchNormalization object at 0x000001C3DB5375B0> --> False\n",
      "<keras.layers.core.activation.Activation object at 0x000001C3DB537190> --> False\n",
      "<keras.layers.convolutional.ZeroPadding2D object at 0x000001C3DB564250> --> False\n",
      "<keras.layers.pooling.MaxPooling2D object at 0x000001C3E1760A60> --> False\n",
      "<keras.layers.convolutional.Conv2D object at 0x000001C3E17608B0> --> False\n",
      "<keras.layers.normalization.batch_normalization.BatchNormalization object at 0x000001C3E177A2B0> --> False\n",
      "<keras.layers.core.activation.Activation object at 0x000001C3E176B700> --> False\n",
      "<keras.layers.convolutional.Conv2D object at 0x000001C3E177D370> --> False\n",
      "<keras.layers.normalization.batch_normalization.BatchNormalization object at 0x000001C3E1788C40> --> False\n",
      "<keras.layers.core.activation.Activation object at 0x000001C3E178B910> --> False\n",
      "<keras.layers.convolutional.Conv2D object at 0x000001C3E176B580> --> False\n",
      "<keras.layers.convolutional.Conv2D object at 0x000001C3E1788760> --> False\n",
      "<keras.layers.normalization.batch_normalization.BatchNormalization object at 0x000001C3E176BC10> --> False\n",
      "<keras.layers.normalization.batch_normalization.BatchNormalization object at 0x000001C3E177AA90> --> False\n",
      "<keras.layers.merge.Add object at 0x000001C3E179D1F0> --> False\n",
      "<keras.layers.core.activation.Activation object at 0x000001C3E179D700> --> False\n",
      "<keras.layers.convolutional.Conv2D object at 0x000001C3E1798940> --> False\n",
      "<keras.layers.normalization.batch_normalization.BatchNormalization object at 0x000001C3E17A2E50> --> False\n",
      "<keras.layers.core.activation.Activation object at 0x000001C3E17A9970> --> False\n",
      "<keras.layers.convolutional.Conv2D object at 0x000001C3E1788610> --> False\n",
      "<keras.layers.normalization.batch_normalization.BatchNormalization object at 0x000001C3E17B7220> --> False\n",
      "<keras.layers.core.activation.Activation object at 0x000001C3E1798610> --> False\n",
      "<keras.layers.convolutional.Conv2D object at 0x000001C3E17B0F40> --> False\n",
      "<keras.layers.normalization.batch_normalization.BatchNormalization object at 0x000001C3E17C2700> --> False\n",
      "<keras.layers.merge.Add object at 0x000001C3E179D430> --> False\n",
      "<keras.layers.core.activation.Activation object at 0x000001C3E17BCB20> --> False\n",
      "<keras.layers.convolutional.Conv2D object at 0x000001C3E17C28E0> --> False\n",
      "<keras.layers.normalization.batch_normalization.BatchNormalization object at 0x000001C3E17D6700> --> False\n",
      "<keras.layers.core.activation.Activation object at 0x000001C3E17D6E50> --> False\n",
      "<keras.layers.convolutional.Conv2D object at 0x000001C3E17CE730> --> False\n",
      "<keras.layers.normalization.batch_normalization.BatchNormalization object at 0x000001C3E17C27C0> --> False\n",
      "<keras.layers.core.activation.Activation object at 0x000001C3E17D6E80> --> False\n",
      "<keras.layers.convolutional.Conv2D object at 0x000001C3E1791D90> --> False\n",
      "<keras.layers.normalization.batch_normalization.BatchNormalization object at 0x000001C3E176BC40> --> False\n",
      "<keras.layers.merge.Add object at 0x000001C3E17DB670> --> False\n",
      "<keras.layers.core.activation.Activation object at 0x000001C3DB4C2490> --> False\n",
      "<keras.layers.convolutional.Conv2D object at 0x000001C3E17E2F40> --> False\n",
      "<keras.layers.normalization.batch_normalization.BatchNormalization object at 0x000001C3E17E5CD0> --> False\n",
      "<keras.layers.core.activation.Activation object at 0x000001C3E1788670> --> False\n",
      "<keras.layers.convolutional.Conv2D object at 0x000001C3E17EB880> --> False\n",
      "<keras.layers.normalization.batch_normalization.BatchNormalization object at 0x000001C3E17F2910> --> False\n",
      "<keras.layers.core.activation.Activation object at 0x000001C3E17F75E0> --> False\n",
      "<keras.layers.convolutional.Conv2D object at 0x000001C3E176B190> --> False\n",
      "<keras.layers.convolutional.Conv2D object at 0x000001C3E17F70D0> --> False\n",
      "<keras.layers.normalization.batch_normalization.BatchNormalization object at 0x000001C3E17E27F0> --> False\n",
      "<keras.layers.normalization.batch_normalization.BatchNormalization object at 0x000001C3E17EBE80> --> False\n",
      "<keras.layers.merge.Add object at 0x000001C3E180B280> --> False\n",
      "<keras.layers.core.activation.Activation object at 0x000001C3E180B8B0> --> False\n",
      "<keras.layers.convolutional.Conv2D object at 0x000001C3E1801C40> --> False\n",
      "<keras.layers.normalization.batch_normalization.BatchNormalization object at 0x000001C3E1811E20> --> False\n",
      "<keras.layers.core.activation.Activation object at 0x000001C3E1819AF0> --> False\n",
      "<keras.layers.convolutional.Conv2D object at 0x000001C3E17F7760> --> False\n",
      "<keras.layers.normalization.batch_normalization.BatchNormalization object at 0x000001C3E180BF70> --> False\n",
      "<keras.layers.core.activation.Activation object at 0x000001C3E18195E0> --> False\n",
      "<keras.layers.convolutional.Conv2D object at 0x000001C3E1822D30> --> False\n",
      "<keras.layers.normalization.batch_normalization.BatchNormalization object at 0x000001C3E18300D0> --> False\n",
      "<keras.layers.merge.Add object at 0x000001C3E1822370> --> False\n",
      "<keras.layers.core.activation.Activation object at 0x000001C3E1836910> --> False\n",
      "<keras.layers.convolutional.Conv2D object at 0x000001C3E1830610> --> False\n",
      "<keras.layers.normalization.batch_normalization.BatchNormalization object at 0x000001C3E1845100> --> False\n",
      "<keras.layers.core.activation.Activation object at 0x000001C3E1845B20> --> False\n",
      "<keras.layers.convolutional.Conv2D object at 0x000001C3E183CF40> --> False\n",
      "<keras.layers.normalization.batch_normalization.BatchNormalization object at 0x000001C3E184F1C0> --> False\n",
      "<keras.layers.core.activation.Activation object at 0x000001C3E1830BB0> --> False\n",
      "<keras.layers.convolutional.Conv2D object at 0x000001C3E1856A30> --> False\n",
      "<keras.layers.normalization.batch_normalization.BatchNormalization object at 0x000001C3E185B9A0> --> False\n",
      "<keras.layers.merge.Add object at 0x000001C3E1864670> --> False\n",
      "<keras.layers.core.activation.Activation object at 0x000001C3E1864F40> --> False\n",
      "<keras.layers.convolutional.Conv2D object at 0x000001C3E185B430> --> False\n",
      "<keras.layers.normalization.batch_normalization.BatchNormalization object at 0x000001C3E18476D0> --> False\n",
      "<keras.layers.core.activation.Activation object at 0x000001C3E1819EE0> --> False\n",
      "<keras.layers.convolutional.Conv2D object at 0x000001C3E1830040> --> False\n",
      "<keras.layers.normalization.batch_normalization.BatchNormalization object at 0x000001C3E17F79D0> --> False\n",
      "<keras.layers.core.activation.Activation object at 0x000001C3E1829A60> --> False\n",
      "<keras.layers.convolutional.Conv2D object at 0x000001C3E17E5040> --> False\n",
      "<keras.layers.normalization.batch_normalization.BatchNormalization object at 0x000001C3E179D3A0> --> False\n",
      "<keras.layers.merge.Add object at 0x000001C3E17FF370> --> False\n",
      "<keras.layers.core.activation.Activation object at 0x000001C3E178BFD0> --> False\n",
      "<keras.layers.convolutional.Conv2D object at 0x000001C3E186FFD0> --> False\n",
      "<keras.layers.normalization.batch_normalization.BatchNormalization object at 0x000001C3E186AE20> --> False\n",
      "<keras.layers.core.activation.Activation object at 0x000001C3E186FB80> --> False\n",
      "<keras.layers.convolutional.Conv2D object at 0x000001C3E1874B80> --> False\n",
      "<keras.layers.normalization.batch_normalization.BatchNormalization object at 0x000001C3E1878FA0> --> False\n",
      "<keras.layers.core.activation.Activation object at 0x000001C3E17DBE20> --> False\n",
      "<keras.layers.convolutional.Conv2D object at 0x000001C3E17F7910> --> False\n",
      "<keras.layers.convolutional.Conv2D object at 0x000001C3E1882A30> --> False\n",
      "<keras.layers.normalization.batch_normalization.BatchNormalization object at 0x000001C3E186EEB0> --> False\n",
      "<keras.layers.normalization.batch_normalization.BatchNormalization object at 0x000001C3E188A070> --> False\n",
      "<keras.layers.merge.Add object at 0x000001C3E1871340> --> False\n",
      "<keras.layers.core.activation.Activation object at 0x000001C3E188EA30> --> False\n",
      "<keras.layers.convolutional.Conv2D object at 0x000001C3E188A880> --> False\n",
      "<keras.layers.normalization.batch_normalization.BatchNormalization object at 0x000001C3E286E1F0> --> False\n",
      "<keras.layers.core.activation.Activation object at 0x000001C3E188A850> --> False\n",
      "<keras.layers.convolutional.Conv2D object at 0x000001C3E1878730> --> False\n",
      "<keras.layers.normalization.batch_normalization.BatchNormalization object at 0x000001C3E2870280> --> False\n",
      "<keras.layers.core.activation.Activation object at 0x000001C3E286E700> --> False\n",
      "<keras.layers.convolutional.Conv2D object at 0x000001C3E287D6A0> --> False\n",
      "<keras.layers.normalization.batch_normalization.BatchNormalization object at 0x000001C3E2886A60> --> False\n",
      "<keras.layers.merge.Add object at 0x000001C3E287DAF0> --> False\n",
      "<keras.layers.core.activation.Activation object at 0x000001C3E28708E0> --> False\n",
      "<keras.layers.convolutional.Conv2D object at 0x000001C3E28863D0> --> False\n",
      "<keras.layers.normalization.batch_normalization.BatchNormalization object at 0x000001C3E2898A60> --> False\n",
      "<keras.layers.core.activation.Activation object at 0x000001C3E2898670> --> False\n",
      "<keras.layers.convolutional.Conv2D object at 0x000001C3E289E2E0> --> False\n",
      "<keras.layers.normalization.batch_normalization.BatchNormalization object at 0x000001C3E28A4B50> --> False\n",
      "<keras.layers.core.activation.Activation object at 0x000001C3E28AB820> --> False\n",
      "<keras.layers.convolutional.Conv2D object at 0x000001C3E28A4DF0> --> False\n",
      "<keras.layers.normalization.batch_normalization.BatchNormalization object at 0x000001C3E288ADF0> --> False\n",
      "<keras.layers.merge.Add object at 0x000001C3E28ABDF0> --> False\n",
      "<keras.layers.core.activation.Activation object at 0x000001C3E188EFA0> --> False\n",
      "<keras.layers.convolutional.Conv2D object at 0x000001C3E287D550> --> False\n",
      "<keras.layers.normalization.batch_normalization.BatchNormalization object at 0x000001C3E1871F10> --> False\n",
      "<keras.layers.core.activation.Activation object at 0x000001C3E2871D60> --> False\n",
      "<keras.layers.convolutional.Conv2D object at 0x000001C3E18688E0> --> False\n",
      "<keras.layers.normalization.batch_normalization.BatchNormalization object at 0x000001C3E1801EE0> --> False\n",
      "<keras.layers.core.activation.Activation object at 0x000001C3E17B0490> --> False\n",
      "<keras.layers.convolutional.Conv2D object at 0x000001C3E187F490> --> False\n",
      "<keras.layers.normalization.batch_normalization.BatchNormalization object at 0x000001C3E28B3280> --> False\n",
      "<keras.layers.merge.Add object at 0x000001C3E28B1FA0> --> False\n",
      "<keras.layers.core.activation.Activation object at 0x000001C3E28A6280> --> False\n",
      "<keras.layers.convolutional.Conv2D object at 0x000001C3E28B3DC0> --> False\n",
      "<keras.layers.normalization.batch_normalization.BatchNormalization object at 0x000001C3E28BD280> --> False\n",
      "<keras.layers.core.activation.Activation object at 0x000001C3E28BDCA0> --> False\n",
      "<keras.layers.convolutional.Conv2D object at 0x000001C3E28B3D00> --> False\n",
      "<keras.layers.normalization.batch_normalization.BatchNormalization object at 0x000001C3E28C4310> --> False\n",
      "<keras.layers.core.activation.Activation object at 0x000001C3E28BDD00> --> False\n",
      "<keras.layers.convolutional.Conv2D object at 0x000001C3E28CA730> --> False\n",
      "<keras.layers.normalization.batch_normalization.BatchNormalization object at 0x000001C3E28D1AF0> --> False\n",
      "<keras.layers.merge.Add object at 0x000001C3E28CAB80> --> False\n",
      "<keras.layers.core.activation.Activation object at 0x000001C3E28D6370> --> False\n",
      "<keras.layers.convolutional.Conv2D object at 0x000001C3E28D1850> --> False\n",
      "<keras.layers.normalization.batch_normalization.BatchNormalization object at 0x000001C3E28E7AF0> --> False\n",
      "<keras.layers.core.activation.Activation object at 0x000001C3E28C4970> --> False\n",
      "<keras.layers.convolutional.Conv2D object at 0x000001C3E28E7460> --> False\n",
      "<keras.layers.normalization.batch_normalization.BatchNormalization object at 0x000001C3E28F1880> --> False\n",
      "<keras.layers.core.activation.Activation object at 0x000001C3E28EBCD0> --> False\n",
      "<keras.layers.convolutional.Conv2D object at 0x000001C3E28F1E20> --> False\n",
      "<keras.layers.normalization.batch_normalization.BatchNormalization object at 0x000001C3E28FED90> --> False\n",
      "<keras.layers.merge.Add object at 0x000001C3E28F6DF0> --> False\n",
      "<keras.layers.core.activation.Activation object at 0x000001C3E2907640> --> False\n",
      "<keras.layers.convolutional.Conv2D object at 0x000001C3E2915D90> --> False\n",
      "<keras.layers.normalization.batch_normalization.BatchNormalization object at 0x000001C3E2907F10> --> False\n",
      "<keras.layers.core.activation.Activation object at 0x000001C3E2915FD0> --> False\n",
      "<keras.layers.convolutional.Conv2D object at 0x000001C3E2924F40> --> False\n",
      "<keras.layers.normalization.batch_normalization.BatchNormalization object at 0x000001C3E2907EE0> --> False\n",
      "<keras.layers.core.activation.Activation object at 0x000001C3E28D6AC0> --> False\n",
      "<keras.layers.convolutional.Conv2D object at 0x000001C3E29037F0> --> False\n",
      "<keras.layers.convolutional.Conv2D object at 0x000001C3E28D10D0> --> False\n",
      "<keras.layers.normalization.batch_normalization.BatchNormalization object at 0x000001C3E2911D90> --> False\n",
      "<keras.layers.normalization.batch_normalization.BatchNormalization object at 0x000001C3E29240D0> --> False\n",
      "<keras.layers.merge.Add object at 0x000001C3E28DFEB0> --> False\n",
      "<keras.layers.core.activation.Activation object at 0x000001C3E28A6F70> --> False\n",
      "<keras.layers.convolutional.Conv2D object at 0x000001C3E18688B0> --> False\n",
      "<keras.layers.normalization.batch_normalization.BatchNormalization object at 0x000001C3E28A4CA0> --> False\n",
      "<keras.layers.core.activation.Activation object at 0x000001C3E2891AF0> --> False\n",
      "<keras.layers.convolutional.Conv2D object at 0x000001C3E292CD30> --> False\n",
      "<keras.layers.normalization.batch_normalization.BatchNormalization object at 0x000001C3E292E700> --> False\n",
      "<keras.layers.core.activation.Activation object at 0x000001C3E292CBE0> --> False\n",
      "<keras.layers.convolutional.Conv2D object at 0x000001C3E292FC40> --> False\n",
      "<keras.layers.normalization.batch_normalization.BatchNormalization object at 0x000001C3E2932BE0> --> False\n",
      "<keras.layers.merge.Add object at 0x000001C3E2935040> --> False\n",
      "<keras.layers.core.activation.Activation object at 0x000001C3E2935A60> --> False\n",
      "<keras.layers.convolutional.Conv2D object at 0x000001C3E292FE20> --> False\n",
      "<keras.layers.normalization.batch_normalization.BatchNormalization object at 0x000001C3E293EBE0> --> False\n",
      "<keras.layers.core.activation.Activation object at 0x000001C3E29448B0> --> False\n",
      "<keras.layers.convolutional.Conv2D object at 0x000001C3E293EE50> --> False\n",
      "<keras.layers.normalization.batch_normalization.BatchNormalization object at 0x000001C3E2949CA0> --> True\n",
      "<keras.layers.core.activation.Activation object at 0x000001C3E294E970> --> True\n",
      "<keras.layers.convolutional.Conv2D object at 0x000001C3E29495E0> --> True\n",
      "<keras.layers.normalization.batch_normalization.BatchNormalization object at 0x000001C3E293E190> --> True\n",
      "<keras.layers.merge.Add object at 0x000001C3E2963040> --> True\n",
      "<keras.layers.core.activation.Activation object at 0x000001C3E29638E0> --> True\n",
      "<keras.layers.pooling.GlobalAveragePooling2D object at 0x000001C3E295D670> --> True\n"
     ]
    }
   ],
   "source": [
    "for layer in base_model.layers:\n",
    "    print(layer,\"-->\",layer.trainable)"
   ]
  },
  {
   "cell_type": "code",
   "execution_count": 6,
   "id": "82fa56a8",
   "metadata": {},
   "outputs": [
    {
     "name": "stderr",
     "output_type": "stream",
     "text": [
      "F:\\Anaconda\\lib\\site-packages\\keras\\optimizer_v2\\rmsprop.py:130: UserWarning: The `lr` argument is deprecated, use `learning_rate` instead.\n",
      "  super(RMSprop, self).__init__(name, **kwargs)\n"
     ]
    }
   ],
   "source": [
    "from tensorflow.keras.optimizers import Adam,SGD,Adagrad,Adadelta,RMSprop\n",
    "from tensorflow.keras.callbacks import ReduceLROnPlateau\n",
    "\n",
    "\n",
    "reduce_learning_rate = ReduceLROnPlateau(monitor='loss',\n",
    "                                         factor=0.1,\n",
    "                                         patience=3,\n",
    "                                         cooldown=2,\n",
    "                                         min_lr=1e-10,\n",
    "                                         verbose=1)\n",
    "\n",
    "checkpoint =tf.keras.callbacks.ModelCheckpoint(filepath=\"resfinal.h5\", \n",
    "                            monitor='val_accuracy',\n",
    "                            verbose=1,\n",
    "                            save_best_only=True, \n",
    "                            save_weights_only=False, \n",
    "                            mode='auto',\n",
    "                            save_freq='epoch')\n",
    "\n",
    "\n",
    "import time\n",
    "class TimeHistory(tf.keras.callbacks.Callback):\n",
    "    def on_train_begin(self, logs={}):\n",
    "        self.times = []\n",
    "\n",
    "    def on_epoch_begin(self, batch, logs={}):\n",
    "        self.epoch_time_start = time.time()\n",
    "\n",
    "    def on_epoch_end(self, batch, logs={}):\n",
    "        self.times.append(time.time() - self.epoch_time_start)\n",
    "\n",
    "time_callback = TimeHistory()\n",
    "\n",
    "callbacks = [reduce_learning_rate, checkpoint, time_callback]\n",
    "optimizer = RMSprop(lr=0.001, rho=0.9, epsilon=1e-08, decay=0.0)\n",
    "model.compile( loss='categorical_crossentropy',optimizer= optimizer, metrics=['accuracy'])"
   ]
  },
  {
   "cell_type": "code",
   "execution_count": 9,
   "id": "5cadf7c6",
   "metadata": {},
   "outputs": [
    {
     "name": "stdout",
     "output_type": "stream",
     "text": [
      "Found 1986 images belonging to 2 classes.\n",
      "Found 495 images belonging to 2 classes.\n"
     ]
    }
   ],
   "source": [
    "train_generator = datagen.flow_from_directory(\n",
    "        base_dir,  # This is the source directory for training images\n",
    "        target_size=(img_h,img_w),  \n",
    "        batch_size=batch_size,\n",
    "        class_mode='categorical',\n",
    "        subset='training',\n",
    "        #color_mode=\"rgb\",\n",
    "        shuffle=True)\n",
    "\n",
    "\n",
    "validation_generator = datagen.flow_from_directory(\n",
    "         base_dir,     \n",
    "        target_size=(img_h, img_w),\n",
    "        batch_size=batch_size,\n",
    "        class_mode='categorical',\n",
    "        #color_mode=\"rgb\",\n",
    "        subset='validation',\n",
    "        shuffle=False)"
   ]
  },
  {
   "cell_type": "code",
   "execution_count": 10,
   "id": "7849828e",
   "metadata": {},
   "outputs": [
    {
     "name": "stdout",
     "output_type": "stream",
     "text": [
      "Epoch 1/10\n",
      "7/7 [==============================] - ETA: 0s - loss: 0.7303 - accuracy: 0.5229 - precision: 0.5229 - recall: 0.5229 \n",
      "Epoch 00001: val_accuracy improved from -inf to 0.97656, saving model to resfinal.h5\n"
     ]
    },
    {
     "name": "stderr",
     "output_type": "stream",
     "text": [
      "F:\\Anaconda\\lib\\site-packages\\keras\\engine\\functional.py:1410: CustomMaskWarning: Custom mask layers require a config and must override get_config. When loading, the custom mask layer must be passed to the custom_objects argument.\n",
      "  layer_config = serialize_layer_fn(layer)\n"
     ]
    },
    {
     "name": "stdout",
     "output_type": "stream",
     "text": [
      "7/7 [==============================] - 170s 24s/step - loss: 0.7303 - accuracy: 0.5229 - precision: 0.5229 - recall: 0.5229 - val_loss: 0.5396 - val_accuracy: 0.9766 - val_precision: 0.9766 - val_recall: 0.9766 - lr: 0.0100\n",
      "Epoch 2/10\n",
      "7/7 [==============================] - ETA: 0s - loss: 0.7151 - accuracy: 0.5329 - precision: 0.5329 - recall: 0.5329 \n",
      "Epoch 00002: val_accuracy did not improve from 0.97656\n",
      "7/7 [==============================] - 121s 17s/step - loss: 0.7151 - accuracy: 0.5329 - precision: 0.5329 - recall: 0.5329 - val_loss: 0.5583 - val_accuracy: 0.9766 - val_precision: 0.9766 - val_recall: 0.9766 - lr: 0.0100\n",
      "Epoch 3/10\n",
      "7/7 [==============================] - ETA: 0s - loss: 0.7084 - accuracy: 0.5428 - precision: 0.5428 - recall: 0.5428 \n",
      "Epoch 00003: val_accuracy did not improve from 0.97656\n",
      "7/7 [==============================] - 94s 14s/step - loss: 0.7084 - accuracy: 0.5428 - precision: 0.5428 - recall: 0.5428 - val_loss: 0.6065 - val_accuracy: 0.9766 - val_precision: 0.9766 - val_recall: 0.9766 - lr: 0.0100\n",
      "Epoch 4/10\n",
      "7/7 [==============================] - ETA: 0s - loss: 0.6962 - accuracy: 0.5665 - precision: 0.5665 - recall: 0.5665 \n",
      "Epoch 00004: val_accuracy did not improve from 0.97656\n",
      "7/7 [==============================] - 100s 14s/step - loss: 0.6962 - accuracy: 0.5665 - precision: 0.5665 - recall: 0.5665 - val_loss: 0.5567 - val_accuracy: 0.9766 - val_precision: 0.9766 - val_recall: 0.9766 - lr: 0.0100\n",
      "Epoch 5/10\n",
      "7/7 [==============================] - ETA: 0s - loss: 0.6880 - accuracy: 0.5873 - precision: 0.5873 - recall: 0.5873 \n",
      "Epoch 00005: val_accuracy did not improve from 0.97656\n",
      "7/7 [==============================] - 101s 15s/step - loss: 0.6880 - accuracy: 0.5873 - precision: 0.5873 - recall: 0.5873 - val_loss: 0.6375 - val_accuracy: 0.9766 - val_precision: 0.9766 - val_recall: 0.9766 - lr: 0.0100\n",
      "Epoch 6/10\n",
      "7/7 [==============================] - ETA: 0s - loss: 0.6840 - accuracy: 0.5931 - precision: 0.5931 - recall: 0.5931 \n",
      "Epoch 00006: val_accuracy did not improve from 0.97656\n",
      "7/7 [==============================] - 101s 15s/step - loss: 0.6840 - accuracy: 0.5931 - precision: 0.5931 - recall: 0.5931 - val_loss: 0.5975 - val_accuracy: 0.9766 - val_precision: 0.9766 - val_recall: 0.9766 - lr: 0.0100\n",
      "Epoch 7/10\n",
      "7/7 [==============================] - ETA: 0s - loss: 0.6741 - accuracy: 0.6006 - precision: 0.6006 - recall: 0.6006 \n",
      "Epoch 00007: val_accuracy did not improve from 0.97656\n",
      "7/7 [==============================] - 101s 14s/step - loss: 0.6741 - accuracy: 0.6006 - precision: 0.6006 - recall: 0.6006 - val_loss: 0.5591 - val_accuracy: 0.9766 - val_precision: 0.9766 - val_recall: 0.9766 - lr: 0.0100\n",
      "Epoch 8/10\n",
      "7/7 [==============================] - ETA: 0s - loss: 0.6652 - accuracy: 0.6231 - precision: 0.6231 - recall: 0.6231 \n",
      "Epoch 00008: val_accuracy did not improve from 0.97656\n",
      "7/7 [==============================] - 95s 14s/step - loss: 0.6652 - accuracy: 0.6231 - precision: 0.6231 - recall: 0.6231 - val_loss: 0.6498 - val_accuracy: 0.9531 - val_precision: 0.9531 - val_recall: 0.9531 - lr: 0.0100\n",
      "Epoch 9/10\n",
      "7/7 [==============================] - ETA: 0s - loss: 0.6662 - accuracy: 0.6092 - precision: 0.6092 - recall: 0.6092 \n",
      "Epoch 00009: val_accuracy did not improve from 0.97656\n",
      "7/7 [==============================] - 92s 13s/step - loss: 0.6662 - accuracy: 0.6092 - precision: 0.6092 - recall: 0.6092 - val_loss: 0.5916 - val_accuracy: 0.9766 - val_precision: 0.9766 - val_recall: 0.9766 - lr: 0.0100\n",
      "Epoch 10/10\n",
      "7/7 [==============================] - ETA: 0s - loss: 0.6581 - accuracy: 0.6172 - precision: 0.6172 - recall: 0.6172 \n",
      "Epoch 00010: val_accuracy did not improve from 0.97656\n",
      "7/7 [==============================] - 105s 15s/step - loss: 0.6581 - accuracy: 0.6172 - precision: 0.6172 - recall: 0.6172 - val_loss: 0.6057 - val_accuracy: 0.9766 - val_precision: 0.9766 - val_recall: 0.9766 - lr: 0.0100\n"
     ]
    }
   ],
   "source": [
    "import keras\n",
    "model.compile(optimizer='sgd',\n",
    "          loss='binary_crossentropy',\n",
    "          metrics=['accuracy',keras.metrics.Precision(), keras.metrics.Recall()])\n",
    "history = model.fit(\n",
    "      train_generator,\n",
    "      steps_per_epoch=train_generator.samples//batch_size, \n",
    "      epochs=10,\n",
    "      validation_data=validation_generator,\n",
    "      validation_steps=validation_generator.samples//batch_size,  \n",
    "      callbacks=callbacks,\n",
    "      verbose=1)"
   ]
  },
  {
   "cell_type": "code",
   "execution_count": 27,
   "id": "1dce7858",
   "metadata": {},
   "outputs": [
    {
     "name": "stdout",
     "output_type": "stream",
     "text": [
      "2/2 [==============================] - 33s 14s/step - loss: 0.9147 - accuracy: 0.5313\n"
     ]
    },
    {
     "data": {
      "text/plain": [
       "[0.914727509021759, 0.5313131213188171]"
      ]
     },
     "execution_count": 27,
     "metadata": {},
     "output_type": "execute_result"
    }
   ],
   "source": [
    "model.evaluate(validation_generator,verbose=1)"
   ]
  },
  {
   "cell_type": "code",
   "execution_count": 19,
   "id": "d6b773a8",
   "metadata": {},
   "outputs": [
    {
     "name": "stdout",
     "output_type": "stream",
     "text": [
      "dict_keys(['loss', 'accuracy', 'val_loss', 'val_accuracy', 'lr'])\n"
     ]
    }
   ],
   "source": [
    "history_dict = history.history\n",
    "print(history_dict.keys())"
   ]
  },
  {
   "cell_type": "code",
   "execution_count": 16,
   "id": "96fc1a37",
   "metadata": {},
   "outputs": [
    {
     "name": "stdout",
     "output_type": "stream",
     "text": [
      "[[0.6643814  0.33561864]]\n"
     ]
    }
   ],
   "source": [
    "img = cv2.imread(\"E:\\\\AB\\\\cov_deep_learning\\\\Data_dl\\\\COVID\\\\Covid (42).png\") \n",
    "image_resized= cv2.resize(img, (img_h,img_w))\n",
    "cv2.imshow('CT scan', img)\n",
    "cv2.waitKey(0)\n",
    "img=np.expand_dims(image_resized,axis=0)\n",
    "np.set_printoptions(suppress=True)\n",
    "pred=model.predict(img)\n",
    "print(pred)"
   ]
  },
  {
   "cell_type": "code",
   "execution_count": 17,
   "id": "0f80be7b",
   "metadata": {},
   "outputs": [
    {
     "name": "stdout",
     "output_type": "stream",
     "text": [
      "COVID positive\n"
     ]
    }
   ],
   "source": [
    "yn=np.argmax(pred,axis=1)\n",
    "classes = []\n",
    "for subdir in sorted(os.listdir(base_dir)):\n",
    "    if os.path.isdir(os.path.join(base_dir, subdir)):\n",
    "        classes.append(subdir)\n",
    "if yn==0:\n",
    "    print(\"COVID positive\")\n",
    "else :\n",
    "    print(\"Not Covid\")"
   ]
  },
  {
   "cell_type": "code",
   "execution_count": null,
   "id": "11ee463c",
   "metadata": {},
   "outputs": [],
   "source": []
  },
  {
   "cell_type": "code",
   "execution_count": null,
   "id": "6420417b",
   "metadata": {},
   "outputs": [],
   "source": []
  },
  {
   "cell_type": "code",
   "execution_count": 15,
   "id": "60b03a94",
   "metadata": {},
   "outputs": [
    {
     "name": "stdout",
     "output_type": "stream",
     "text": [
      "Total time taken is  18.0  minutes and  1.5460174083709717  seconds\n"
     ]
    }
   ],
   "source": [
    "timings= time_callback.times\n",
    "n=sum(timings)\n",
    "print(\"Total time taken is \",sum(timings)//60,\" minutes and \",sum(timings)%60,\" seconds\")"
   ]
  },
  {
   "cell_type": "code",
   "execution_count": null,
   "id": "4a7824f0",
   "metadata": {},
   "outputs": [],
   "source": []
  },
  {
   "cell_type": "code",
   "execution_count": null,
   "id": "249c9074",
   "metadata": {},
   "outputs": [],
   "source": []
  },
  {
   "cell_type": "code",
   "execution_count": null,
   "id": "6c0445e1",
   "metadata": {},
   "outputs": [],
   "source": []
  },
  {
   "cell_type": "code",
   "execution_count": null,
   "id": "d27d355d",
   "metadata": {},
   "outputs": [],
   "source": []
  }
 ],
 "metadata": {
  "kernelspec": {
   "display_name": "Python 3 (ipykernel)",
   "language": "python",
   "name": "python3"
  },
  "language_info": {
   "codemirror_mode": {
    "name": "ipython",
    "version": 3
   },
   "file_extension": ".py",
   "mimetype": "text/x-python",
   "name": "python",
   "nbconvert_exporter": "python",
   "pygments_lexer": "ipython3",
   "version": "3.9.7"
  }
 },
 "nbformat": 4,
 "nbformat_minor": 5
}
